{
 "cells": [
  {
   "cell_type": "code",
   "execution_count": 19,
   "metadata": {},
   "outputs": [],
   "source": [
    "import os\n",
    "import shutil"
   ]
  },
  {
   "cell_type": "code",
   "execution_count": 20,
   "metadata": {},
   "outputs": [],
   "source": [
    "monet_dir = '/media/data/ilab/lxy/data_collection/painter/monet_jpg/'\n",
    "photo_dir = '/media/data/ilab/lxy/data_collection/painter/photo_jpg/'\n",
    "target_dir = '/media/data/ilab/lxy/data_collection/painter/dataset1'"
   ]
  },
  {
   "cell_type": "code",
   "execution_count": 21,
   "metadata": {},
   "outputs": [],
   "source": [
    "monet_imgs = os.listdir(monet_dir)\n",
    "photo_imgs = os.listdir(photo_dir)"
   ]
  },
  {
   "cell_type": "code",
   "execution_count": 22,
   "metadata": {},
   "outputs": [],
   "source": [
    "monet_sum = len(monet_imgs)\n",
    "photo_sum = len(photo_imgs)"
   ]
  },
  {
   "cell_type": "code",
   "execution_count": 23,
   "metadata": {},
   "outputs": [],
   "source": [
    "os.mkdir(target_dir)\n",
    "os.mkdir(os.path.join(target_dir, 'trainA'))\n",
    "os.mkdir(os.path.join(target_dir, 'trainB'))\n",
    "os.mkdir(os.path.join(target_dir, 'valA'))\n",
    "os.mkdir(os.path.join(target_dir, 'valB'))\n",
    "os.mkdir(os.path.join(target_dir, 'testA'))\n",
    "os.mkdir(os.path.join(target_dir, 'testB'))"
   ]
  },
  {
   "cell_type": "markdown",
   "metadata": {},
   "source": []
  },
  {
   "cell_type": "code",
   "execution_count": 24,
   "metadata": {},
   "outputs": [],
   "source": [
    "for idx, img in enumerate(monet_imgs):\n",
    "    if idx < 0.7 * monet_sum:\n",
    "        shutil.copy(os.path.join(monet_dir, img), os.path.join(target_dir, 'trainA', img))\n",
    "    elif idx < 0.8 * monet_sum:\n",
    "        shutil.copy(os.path.join(monet_dir, img), os.path.join(target_dir, 'valA', img))\n",
    "    else:\n",
    "        shutil.copy(os.path.join(monet_dir, img), os.path.join(target_dir, 'testA', img))"
   ]
  },
  {
   "cell_type": "code",
   "execution_count": 26,
   "metadata": {},
   "outputs": [],
   "source": [
    "for idx, img in enumerate(photo_imgs):\n",
    "    if idx < 0.7 * photo_sum:\n",
    "        shutil.copy(os.path.join(photo_dir, img), os.path.join(target_dir, 'trainB', img))\n",
    "    elif idx < 0.8 * photo_sum:\n",
    "        shutil.copy(os.path.join(photo_dir, img), os.path.join(target_dir, 'valB', img))\n",
    "    else:\n",
    "        shutil.copy(os.path.join(photo_dir, img), os.path.join(target_dir, 'testB', img))"
   ]
  },
  {
   "cell_type": "code",
   "execution_count": 25,
   "metadata": {},
   "outputs": [
    {
     "name": "stdout",
     "output_type": "stream",
     "text": [
      "210 30 60\n"
     ]
    }
   ],
   "source": [
    "trains = len(os.listdir(os.path.join(target_dir, 'trainA')))\n",
    "vals = len(os.listdir(os.path.join(target_dir, 'valA')))\n",
    "tests = len(os.listdir(os.path.join(target_dir, 'testA')))\n",
    "print(trains, vals, tests)"
   ]
  },
  {
   "cell_type": "code",
   "execution_count": 27,
   "metadata": {},
   "outputs": [
    {
     "name": "stdout",
     "output_type": "stream",
     "text": [
      "4927 704 1407\n"
     ]
    }
   ],
   "source": [
    "trains = len(os.listdir(os.path.join(target_dir, 'trainB')))\n",
    "vals = len(os.listdir(os.path.join(target_dir, 'valB')))\n",
    "tests = len(os.listdir(os.path.join(target_dir, 'testB')))\n",
    "print(trains, vals, tests)"
   ]
  },
  {
   "cell_type": "code",
   "execution_count": 28,
   "metadata": {},
   "outputs": [
    {
     "data": {
      "text/plain": [
       "7038"
      ]
     },
     "execution_count": 28,
     "metadata": {},
     "output_type": "execute_result"
    }
   ],
   "source": [
    "trains + vals + tests"
   ]
  },
  {
   "cell_type": "code",
   "execution_count": 29,
   "metadata": {},
   "outputs": [],
   "source": [
    "import torchvision\n",
    "from torchvision import transforms"
   ]
  },
  {
   "cell_type": "code",
   "execution_count": null,
   "metadata": {},
   "outputs": [],
   "source": [
    "transforms.RandomHorizontalFlip"
   ]
  }
 ],
 "metadata": {
  "kernelspec": {
   "display_name": "lxy_MVI",
   "language": "python",
   "name": "python3"
  },
  "language_info": {
   "codemirror_mode": {
    "name": "ipython",
    "version": 3
   },
   "file_extension": ".py",
   "mimetype": "text/x-python",
   "name": "python",
   "nbconvert_exporter": "python",
   "pygments_lexer": "ipython3",
   "version": "3.8.16"
  },
  "orig_nbformat": 4
 },
 "nbformat": 4,
 "nbformat_minor": 2
}
